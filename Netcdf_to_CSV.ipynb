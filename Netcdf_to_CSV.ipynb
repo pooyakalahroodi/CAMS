{
 "cells": [
  {
   "cell_type": "code",
   "execution_count": 1,
   "id": "a426767b",
   "metadata": {},
   "outputs": [],
   "source": [
    "import os\n",
    "import geopandas as gpd\n",
    "import xarray as xr\n",
    "import pandas as pd"
   ]
  },
  {
   "cell_type": "code",
   "execution_count": 2,
   "id": "35c85e0a",
   "metadata": {},
   "outputs": [],
   "source": [
    "# Define the directory containing the .nc files\n",
    "directory_path = r'D:\\master thesis\\master thesis\\air quality prediction\\dataset\\copernicus\\2018-2023'\n",
    "\n",
    "# Get a list of all .nc files in the directory\n",
    "nc_files = [filename for filename in os.listdir(directory_path) if filename.endswith('.nc')]\n",
    "\n",
    "# Initialize an empty DataFrame to store the concatenated data\n",
    "concatenated_data = pd.DataFrame()"
   ]
  },
  {
   "cell_type": "code",
   "execution_count": 3,
   "id": "50c6e185",
   "metadata": {},
   "outputs": [],
   "source": [
    "# Initialize a flag to track if the header has been written\n",
    "header_written = False\n",
    "\n",
    "if os.path.exists('output.csv'):\n",
    "    os.remove('output.csv')\n",
    "    \n",
    "    \n",
    "# Loop through each .nc file and process it\n",
    "for nc_file in nc_files:\n",
    "    file_path = os.path.join(directory_path, nc_file)\n",
    "    \n",
    "    # Read the .nc file using xarray\n",
    "    xds = xr.open_dataset(file_path)\n",
    "    xds_filled = xds.apply(lambda col: col.fillna(col.mean()))\n",
    "    # Convert the data to a DataFrame and preprocess it\n",
    "    df = xds.to_dataframe().reset_index()\n",
    "\n",
    "    df['time'] = pd.to_datetime(df['time'])\n",
    "    \n",
    "    # Write the header row only if it hasn't been written yet\n",
    "    if not header_written:\n",
    "        df.to_csv('output.csv', index=False)\n",
    "        header_written = True\n",
    "    else:\n",
    "        df.to_csv('output.csv', mode='a', header=False, index=False)\n",
    "    \n",
    "# No need to concatenate the data as it's written directly to the CSV file"
   ]
  },
  {
   "cell_type": "code",
   "execution_count": null,
   "id": "a0c8e5a0",
   "metadata": {},
   "outputs": [],
   "source": []
  }
 ],
 "metadata": {
  "kernelspec": {
   "display_name": "Python 3 (ipykernel)",
   "language": "python",
   "name": "python3"
  },
  "language_info": {
   "codemirror_mode": {
    "name": "ipython",
    "version": 3
   },
   "file_extension": ".py",
   "mimetype": "text/x-python",
   "name": "python",
   "nbconvert_exporter": "python",
   "pygments_lexer": "ipython3",
   "version": "3.7.13"
  }
 },
 "nbformat": 4,
 "nbformat_minor": 5
}
